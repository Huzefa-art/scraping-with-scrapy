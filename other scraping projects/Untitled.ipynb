{
 "cells": [
  {
   "cell_type": "code",
   "execution_count": 1,
   "id": "96d34989",
   "metadata": {},
   "outputs": [],
   "source": [
    "from requests import get\n",
    "from bs4 import BeautifulSoup"
   ]
  },
  {
   "cell_type": "code",
   "execution_count": 2,
   "id": "342c2698",
   "metadata": {},
   "outputs": [
    {
     "name": "stdout",
     "output_type": "stream",
     "text": [
      "<!DOCTYPE html><html lang=\"en\" dir=\"ltr\" class=\"\"><head><meta http-equiv=\"Content-Type\" content=\"text/html; charset=utf-8\"/><meta http-equiv=\"x-dns-prefetch-control\" content=\"on\"/><meta name=\"apple-itunes-app\" content=\"app-id=430049632\"/><meta name=\"apple-mobile-web-app-capable\" content=\"yes\"/><meta name=\"apple-mobile-web-app-status-bar-style\" content=\"default\"/><meta name=\"apple-mobile-web-app-title\" content=\"Patch\"/><meta name=\"theme-color\" content=\"#ffffff\"/><meta name=\"referrer\" content=\"ori\n"
     ]
    }
   ],
   "source": [
    "response= get('https://patch.com/california/alameda/calendar')\n",
    "print(response.text[:500])"
   ]
  },
  {
   "cell_type": "code",
   "execution_count": 3,
   "id": "aa144dee",
   "metadata": {},
   "outputs": [
    {
     "data": {
      "text/plain": [
       "bs4.BeautifulSoup"
      ]
     },
     "execution_count": 3,
     "metadata": {},
     "output_type": "execute_result"
    }
   ],
   "source": [
    "html_soup = BeautifulSoup(response.text, 'html.parser')\n",
    "type(html_soup)"
   ]
  },
  {
   "cell_type": "code",
   "execution_count": 4,
   "id": "a9c778b9",
   "metadata": {},
   "outputs": [
    {
     "name": "stdout",
     "output_type": "stream",
     "text": [
      "<class 'bs4.element.ResultSet'>\n",
      "4\n"
     ]
    }
   ],
   "source": [
    "event_container = html_soup.find_all('section', class_ = 'styles_EventFeedSection__3KgsA')\n",
    "print(type(event_container))\n",
    "print(len(event_container))"
   ]
  },
  {
   "cell_type": "code",
   "execution_count": 5,
   "id": "52fa3d89",
   "metadata": {},
   "outputs": [
    {
     "data": {
      "text/plain": [
       "'Thursday, November 25'"
      ]
     },
     "execution_count": 5,
     "metadata": {},
     "output_type": "execute_result"
    }
   ],
   "source": [
    "first_event = event_container[0]\n",
    "first_event.h4.text"
   ]
  },
  {
   "cell_type": "code",
   "execution_count": 6,
   "id": "23b962f5",
   "metadata": {},
   "outputs": [
    {
     "name": "stdout",
     "output_type": "stream",
     "text": [
      "href: /california/alameda/calendar/event/20211125/1230720/thanksgiving-day-turkey-dip-or-roll-2021-alameda\n",
      "href: /california/alameda/calendar/event/20211125/1428750/san-francisco-turkey-trot-kids-gobbler-chase-thanksgiving-2021-golden-gate-park-sf\n",
      "href: /california/alameda/calendar/event/20211125/1428758/harvest-home-animal-sanctuary-trot-for-the-turkeys-virtual-2021-sf-bay-area\n",
      "href: /california/alameda/calendar/event/20211125/1421477/thanksgiving-day-turkey-trot-2021-lake-merritt-oakland\n",
      "href: /california/alameda/calendar/event/20211125/1475556/thanksgiving-turkey-trot-2021-piedmont\n",
      "href: /california/alameda/calendar/event/20211125/1484374/nitro-turkey-trot-little-turkeys-run-2021-point-pinole-richmond\n",
      "href: /california/alameda/calendar/event/20211126/1560803/magickal-markets-black-friday-event\n",
      "href: /california/alameda/calendar/event/20211126/1563583/rockridge-holly-days-celebrations-music-2021-oakland\n",
      "href: /california/alameda/calendar/event/20211126/1572868/amy-miller-at-the-alameda-comedy-club\n",
      "href: /california/alameda/calendar/event/20211126/1581666/celebrate-thanksgiving-with-15-percent-off-floral-centerpieces\n",
      "href: /california/alameda/calendar/event/20211126/1580007/comedy-oakland-live-fri-nov-26-2021\n",
      "href: /california/alameda/calendar/event/20211127/1589852/open-house-206-seaview-drive\n",
      "href: /california/alameda/calendar/event/20211127/1579988/move-for-mental-health-hiit-x-stretch-w-dj-ria-x-krystal-cantu\n",
      "href: /california/alameda/calendar/event/20211127/1228815/vienna-boys-choir-christmas-in-vienna-2021-uc-berkeley\n",
      "href: /california/alameda/calendar/event/20211127/1589796/november-bag-sale-at-dbfl-fill-a-bag-pay-just-10\n",
      "href: /california/alameda/calendar/event/20211127/1579878/november-2021-quaranpalooza-livestream-music-fest\n",
      "href: /california/alameda/calendar/event/20211127/1535772/10th-annual-nutcracker\n",
      "href: /california/alameda/calendar/event/20211127/1584254/aviation-career-event-uss-hornet-sea-air-and-space-museum\n",
      "href: /california/alameda/calendar/event/20211127/1572902/comedy-oakland-live-sat-nov-27-2021\n",
      "href: /california/alameda/calendar/event/20211128/1522815/alameda-women-artists-pop-up-art-exhibit\n"
     ]
    }
   ],
   "source": [
    "first_event.article.find('a',class_= 'styles_Card__TitleLink__1wfDO').get('href')\n",
    "\n",
    "for link in html_soup.find_all('a',class_= 'styles_Card__TitleLink__1wfDO'):\n",
    "     print(\"href: {}\".format(link.get(\"href\")))\n"
   ]
  },
  {
   "cell_type": "code",
   "execution_count": 7,
   "id": "c00909d3",
   "metadata": {},
   "outputs": [],
   "source": [
    "date = [str(i) for i in range(20211125,20211225)]"
   ]
  },
  {
   "cell_type": "code",
   "execution_count": 8,
   "id": "2f05d13f",
   "metadata": {},
   "outputs": [],
   "source": [
    "from time import time, sleep\n",
    "from random import randint"
   ]
  },
  {
   "cell_type": "code",
   "execution_count": 9,
   "id": "bb651fc4",
   "metadata": {},
   "outputs": [],
   "source": [
    "start_time=time()"
   ]
  },
  {
   "cell_type": "code",
   "execution_count": 10,
   "id": "29c6c3e1",
   "metadata": {},
   "outputs": [],
   "source": [
    "request = 0"
   ]
  },
  {
   "cell_type": "code",
   "execution_count": 11,
   "id": "5ce7db8a",
   "metadata": {},
   "outputs": [
    {
     "name": "stdout",
     "output_type": "stream",
     "text": [
      "Request: 1; Frequency: 0.31712839502775086 requests/s\n",
      "Request: 2; Frequency: 0.38798721751554843 requests/s\n",
      "Request: 3; Frequency: 0.48731998700574225 requests/s\n",
      "Request: 4; Frequency: 0.49031431996015346 requests/s\n",
      "Request: 5; Frequency: 0.5459080609600527 requests/s\n"
     ]
    }
   ],
   "source": [
    "for _ in range (5):\n",
    "    request +=1\n",
    "    sleep(randint(1,3))\n",
    "    elapsed_time = time() - start_time\n",
    "    print('Request: {}; Frequency: {} requests/s'.format(request, request/elapsed_time))"
   ]
  },
  {
   "cell_type": "code",
   "execution_count": 13,
   "id": "d14fe32e",
   "metadata": {},
   "outputs": [],
   "source": [
    "from requests import get\n",
    "from bs4 import BeautifulSoup\n",
    "from time import time, sleep\n",
    "from random import randint\n",
    "from IPython.core.display import clear_output"
   ]
  },
  {
   "cell_type": "code",
   "execution_count": 14,
   "id": "f2278f1a",
   "metadata": {},
   "outputs": [],
   "source": [
    "headers = {\"Accept-Language\": \"en-US, en;q=0.5\"}"
   ]
  },
  {
   "cell_type": "code",
   "execution_count": 15,
   "id": "c4b1a72e",
   "metadata": {},
   "outputs": [],
   "source": [
    "urls = []\n",
    "event_image = []\n",
    "more_info_url = []\n",
    "event_name = []\n",
    "event_date = []\n",
    "event_time = []\n",
    "event_address = []\n",
    "event_description = []"
   ]
  },
  {
   "cell_type": "code",
   "execution_count": 17,
   "id": "8d5926e8",
   "metadata": {},
   "outputs": [
    {
     "ename": "NameError",
     "evalue": "name 'year_url' is not defined",
     "output_type": "error",
     "traceback": [
      "\u001b[1;31m---------------------------------------------------------------------------\u001b[0m",
      "\u001b[1;31mNameError\u001b[0m                                 Traceback (most recent call last)",
      "\u001b[1;32m~\\AppData\\Local\\Temp/ipykernel_2604/1504646387.py\u001b[0m in \u001b[0;36m<module>\u001b[1;34m\u001b[0m\n\u001b[0;32m      4\u001b[0m \u001b[1;33m\u001b[0m\u001b[0m\n\u001b[0;32m      5\u001b[0m \u001b[1;32mfor\u001b[0m \u001b[0mdate\u001b[0m \u001b[1;32min\u001b[0m \u001b[0mdate\u001b[0m\u001b[1;33m:\u001b[0m\u001b[1;33m\u001b[0m\u001b[1;33m\u001b[0m\u001b[0m\n\u001b[1;32m----> 6\u001b[1;33m             \u001b[0mresponse\u001b[0m \u001b[1;33m=\u001b[0m \u001b[0mget\u001b[0m\u001b[1;33m(\u001b[0m\u001b[1;34m'http://www.imdb.com/search/title?release_date='\u001b[0m\u001b[1;33m+\u001b[0m\u001b[0myear_url\u001b[0m\u001b[1;33m+\u001b[0m\u001b[1;34m'&sort=num_votes,desc&page='\u001b[0m\u001b[1;33m+\u001b[0m\u001b[0mpage\u001b[0m\u001b[1;33m,\u001b[0m \u001b[0mheaders\u001b[0m \u001b[1;33m=\u001b[0m \u001b[0mheaders\u001b[0m\u001b[1;33m)\u001b[0m\u001b[1;33m\u001b[0m\u001b[1;33m\u001b[0m\u001b[0m\n\u001b[0m\u001b[0;32m      7\u001b[0m             \u001b[0mresponse\u001b[0m \u001b[1;33m=\u001b[0m \u001b[0mget\u001b[0m\u001b[1;33m(\u001b[0m\u001b[1;34m'https://patch.com/california'\u001b[0m\u001b[1;33m+\u001b[0m\u001b[0murl\u001b[0m\u001b[1;33m+\u001b[0m\u001b[1;34m''\u001b[0m\u001b[1;33m)\u001b[0m\u001b[1;33m\u001b[0m\u001b[1;33m\u001b[0m\u001b[0m\n\u001b[0;32m      8\u001b[0m \u001b[1;33m\u001b[0m\u001b[0m\n",
      "\u001b[1;31mNameError\u001b[0m: name 'year_url' is not defined"
     ]
    }
   ],
   "source": [
    "start_time=time()\n",
    "request = 0\n",
    "date = [str(i) for i in range(20211125,20211225)]\n",
    "\n",
    "for date in date:\n",
    "            response = get('http://www.imdb.com/search/title?release_date='+year_url+'&sort=num_votes,desc&page='+page, headers = headers)\n",
    "            response = get('https://patch.com/california'+url+'')\n",
    "\n",
    "            sleep(randint(8,15))\n",
    "            request += 1\n",
    "            elapsed_time = time() - start_time\n",
    "            print('Request:{}; Frequency: {} requests/s'.format(request, request/elapsed_time))\n",
    "            clear_output(wait = True)\n",
    "            \n",
    "            if response.status_code != 200:\n",
    "                 warn('Request: {}; Status code: {}'.format(request, response.status_code))\n",
    "            \n",
    "            if request > 12:\n",
    "                warn('Number of requests was greater than expected.')\n",
    "            break\n",
    "            \n",
    "            page_html = BeautifulSoup(response.text, 'html.parser')\n",
    "            \n",
    "            event_container = html_soup.find_all('section', class_ = 'styles_EventFeedSection__3KgsA')\n",
    "            \n",
    "            for container in event_container:\n",
    "                url = container.article.find('a',class_= 'styles_Card__TitleLink__1wfDO').get('href')\n",
    "                urls.append(url) \n",
    "                "
   ]
  },
  {
   "cell_type": "code",
   "execution_count": null,
   "id": "ee3dd136",
   "metadata": {},
   "outputs": [],
   "source": []
  }
 ],
 "metadata": {
  "kernelspec": {
   "display_name": "Python 3 (ipykernel)",
   "language": "python",
   "name": "python3"
  },
  "language_info": {
   "codemirror_mode": {
    "name": "ipython",
    "version": 3
   },
   "file_extension": ".py",
   "mimetype": "text/x-python",
   "name": "python",
   "nbconvert_exporter": "python",
   "pygments_lexer": "ipython3",
   "version": "3.9.7"
  }
 },
 "nbformat": 4,
 "nbformat_minor": 5
}
