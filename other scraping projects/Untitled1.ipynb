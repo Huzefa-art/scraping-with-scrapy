{
 "cells": [
  {
   "cell_type": "code",
   "execution_count": 8,
   "id": "03e4d526",
   "metadata": {},
   "outputs": [],
   "source": [
    "import scrapy"
   ]
  },
  {
   "cell_type": "code",
   "execution_count": 11,
   "id": "42176f5c",
   "metadata": {},
   "outputs": [
    {
     "ename": "SyntaxError",
     "evalue": "invalid syntax (Temp/ipykernel_1708/1757329859.py, line 9)",
     "output_type": "error",
     "traceback": [
      "\u001b[1;36m  File \u001b[1;32m\"C:\\Users\\HuZ\\AppData\\Local\\Temp/ipykernel_1708/1757329859.py\"\u001b[1;36m, line \u001b[1;32m9\u001b[0m\n\u001b[1;33m    scrapy crawl Huzefa\u001b[0m\n\u001b[1;37m           ^\u001b[0m\n\u001b[1;31mSyntaxError\u001b[0m\u001b[1;31m:\u001b[0m invalid syntax\n"
     ]
    }
   ],
   "source": [
    "class Huzspider(scrapy.Spider):\n",
    "    name = 'Huzefa'\n",
    "    allowed_domains = ['www.patch.com']\n",
    "    start_urls = ['https://patch.com/california/across-ca']\n",
    "    \n",
    "    def parse(self, response):\n",
    "        pass\n",
    "    \n",
    "scrapy runspider tutorial/spiders/zappos.py"
   ]
  },
  {
   "cell_type": "code",
   "execution_count": null,
   "id": "fd46d10f",
   "metadata": {},
   "outputs": [],
   "source": []
  }
 ],
 "metadata": {
  "kernelspec": {
   "display_name": "Python 3 (ipykernel)",
   "language": "python",
   "name": "python3"
  },
  "language_info": {
   "codemirror_mode": {
    "name": "ipython",
    "version": 3
   },
   "file_extension": ".py",
   "mimetype": "text/x-python",
   "name": "python",
   "nbconvert_exporter": "python",
   "pygments_lexer": "ipython3",
   "version": "3.9.7"
  }
 },
 "nbformat": 4,
 "nbformat_minor": 5
}
